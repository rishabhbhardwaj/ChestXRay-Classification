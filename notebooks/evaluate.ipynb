{
 "cells": [
  {
   "cell_type": "code",
   "execution_count": 18,
   "metadata": {},
   "outputs": [],
   "source": [
    "import sys\n",
    "import os\n",
    "import pandas as pd\n",
    "sys.path.append('/Users/rishabhbhardwaj/Documents/personal/courses/cse6250/project/Chest-XRay-Classification/')"
   ]
  },
  {
   "cell_type": "code",
   "execution_count": 34,
   "metadata": {},
   "outputs": [],
   "source": [
    "from keras.models import load_model\n",
    "from keras.preprocessing import image\n",
    "from src.models import DenseNet, ModelFactory\n",
    "import numpy as np\n",
    "import keras\n",
    "from sklearn.metrics.ranking import roc_auc_score\n",
    "import sklearn.metrics as metrics"
   ]
  },
  {
   "cell_type": "code",
   "execution_count": 4,
   "metadata": {},
   "outputs": [],
   "source": [
    "img_width, img_height = 224, 224\n",
    "model_file_path = '../weights/best_weights_1555982768.7076797.h5'\n",
    "data_dir = '/Users/rishabhbhardwaj/Documents/personal/courses/cse6250/project/'\n",
    "valid_file = os.path.join(data_dir, 'CheXpert-v1.0-small/valid.csv')\n",
    "# model_file_path = '../weights/best_weights_1555865398.1238055_Apr22_5cls.h5'\n",
    "class_names = ['Atelectasis', 'Cardiomegaly', 'Consolidation', 'Edema', 'Pleural Effusion']\n",
    "model_type = \"DenseNet121\""
   ]
  },
  {
   "cell_type": "code",
   "execution_count": 5,
   "metadata": {},
   "outputs": [
    {
     "name": "stdout",
     "output_type": "stream",
     "text": [
      "WARNING:tensorflow:From /anaconda2/envs/cse6250/lib/python3.6/site-packages/tensorflow/python/framework/op_def_library.py:263: colocate_with (from tensorflow.python.framework.ops) is deprecated and will be removed in a future version.\n",
      "Instructions for updating:\n",
      "Colocations handled automatically by placer.\n",
      "load model weights_path ../weights/best_weights_1555982768.7076797.h5\n"
     ]
    }
   ],
   "source": [
    "model_factory = ModelFactory()\n",
    "model = model_factory.get_model( class_names,\n",
    "                                model_name=model_type,\n",
    "                                use_base_weights=True,\n",
    "                                weights_path=model_file_path,\n",
    "                                input_shape=(img_height, img_width, 3))\n",
    "optimizer = keras.optimizers.Adam(lr=1e-3, beta_1=0.9, beta_2=0.999)\n",
    "model.compile(optimizer=optimizer, loss=\"binary_crossentropy\", metrics=[\"accuracy\"])"
   ]
  },
  {
   "cell_type": "code",
   "execution_count": 16,
   "metadata": {},
   "outputs": [
    {
     "name": "stderr",
     "output_type": "stream",
     "text": [
      "/Users/rishabhbhardwaj/Documents/personal/courses/cse6250/project/Chest-XRay-Classification/src/generator.py:73: FutureWarning: Method .as_matrix will be removed in a future version. Use .values instead.\n",
      "  self.x_path, y_df = df[\"Path\"].as_matrix(), df[self.class_names]\n"
     ]
    }
   ],
   "source": [
    "from src.generator import CheXpertDataGenerator\n",
    "valid_data = CheXpertDataGenerator(dataset_csv_file=valid_file,\n",
    "            class_names=class_names,\n",
    "            source_image_dir=data_dir,\n",
    "            batch_size=1,\n",
    "            target_size=(224, 224),\n",
    "            augmenter=None,\n",
    "            policy ='mixed',\n",
    "        )"
   ]
  },
  {
   "cell_type": "code",
   "execution_count": 17,
   "metadata": {},
   "outputs": [],
   "source": [
    "pred = model.predict_generator(valid_data)"
   ]
  },
  {
   "cell_type": "code",
   "execution_count": 31,
   "metadata": {},
   "outputs": [
    {
     "name": "stderr",
     "output_type": "stream",
     "text": [
      "/anaconda2/envs/cse6250/lib/python3.6/site-packages/ipykernel_launcher.py:4: FutureWarning: Method .as_matrix will be removed in a future version. Use .values instead.\n",
      "  after removing the cwd from sys.path.\n"
     ]
    }
   ],
   "source": [
    "df = pd.read_csv(valid_file)\n",
    "df = df[df['Frontal/Lateral']=='Frontal']\n",
    "class_df = df[class_names]\n",
    "gt = class_df.as_matrix()"
   ]
  },
  {
   "cell_type": "code",
   "execution_count": 32,
   "metadata": {},
   "outputs": [],
   "source": [
    "def computeAUROC (dataGT, dataPRED, classCount):\n",
    "    outAUROC = []\n",
    "    for i in range(classCount):\n",
    "        try:\n",
    "            outAUROC.append(roc_auc_score(dataGT[:, i], dataPRED[:, i]))\n",
    "        except ValueError:\n",
    "            pass\n",
    "    return outAUROC"
   ]
  },
  {
   "cell_type": "code",
   "execution_count": 35,
   "metadata": {},
   "outputs": [
    {
     "name": "stdout",
     "output_type": "stream",
     "text": [
      "AUROC mean  0.48077689331389084\n",
      "Atelectasis   0.5191601049868766\n",
      "Cardiomegaly   0.500222816399287\n",
      "Consolidation   0.46341911764705884\n",
      "Edema   0.4635416666666667\n",
      "Pleural Effusion   0.45754076086956524\n"
     ]
    }
   ],
   "source": [
    "aurocIndividual = computeAUROC(gt, pred, 5)\n",
    "aurocMean = np.array(aurocIndividual).mean()\n",
    "print ('AUROC mean ', aurocMean)\n",
    "for i in range (0, len(aurocIndividual)):\n",
    "    print (class_names[i], ' ', aurocIndividual[i])"
   ]
  },
  {
   "cell_type": "code",
   "execution_count": null,
   "metadata": {},
   "outputs": [],
   "source": []
  }
 ],
 "metadata": {
  "kernelspec": {
   "display_name": "Python 3",
   "language": "python",
   "name": "python3"
  },
  "language_info": {
   "codemirror_mode": {
    "name": "ipython",
    "version": 3
   },
   "file_extension": ".py",
   "mimetype": "text/x-python",
   "name": "python",
   "nbconvert_exporter": "python",
   "pygments_lexer": "ipython3",
   "version": "3.6.5"
  }
 },
 "nbformat": 4,
 "nbformat_minor": 2
}
